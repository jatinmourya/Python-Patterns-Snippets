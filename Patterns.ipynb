{
 "cells": [
  {
   "cell_type": "code",
   "execution_count": 17,
   "id": "3e267d8f",
   "metadata": {},
   "outputs": [
    {
     "name": "stdout",
     "output_type": "stream",
     "text": [
      "*****\n",
      "*****\n",
      "*****\n",
      "*****\n",
      "*****\n"
     ]
    }
   ],
   "source": [
    "r = int(input('enter rows :'))\n",
    "for i in range(r):\n",
    "    for j in range(r):\n",
    "        print('*', end='')\n",
    "    print()"
   ]
  },
  {
   "cell_type": "code",
   "execution_count": 3,
   "id": "0e06efc8",
   "metadata": {},
   "outputs": [
    {
     "name": "stdout",
     "output_type": "stream",
     "text": [
      "*\n",
      "**\n",
      "***\n",
      "****\n",
      "*****\n"
     ]
    }
   ],
   "source": [
    "r = int(input('enter rows :'))\n",
    "for i in range(r):\n",
    "    for j in range(i+1):\n",
    "        print('*', end='')\n",
    "    print()\n"
   ]
  },
  {
   "cell_type": "code",
   "execution_count": 60,
   "id": "b39d433e",
   "metadata": {},
   "outputs": [
    {
     "name": "stdout",
     "output_type": "stream",
     "text": [
      "*****\n",
      "****\n",
      "***\n",
      "**\n",
      "*\n"
     ]
    }
   ],
   "source": [
    "r = int(input('enter rows :'))\n",
    "for i in range(r, 0, -1):\n",
    "    for j in range(i):\n",
    "        print('*', end='')\n",
    "    print()\n"
   ]
  },
  {
   "cell_type": "code",
   "execution_count": 13,
   "id": "0f2dc939",
   "metadata": {},
   "outputs": [
    {
     "name": "stdout",
     "output_type": "stream",
     "text": [
      "     *\n",
      "    **\n",
      "   ***\n",
      "  ****\n",
      " *****\n"
     ]
    }
   ],
   "source": [
    "r = int(input('enter rows :'))\n",
    "for i in range(1, r+1):\n",
    "    for k in range(r, 0, -1):\n",
    "        print(' ', end='')\n",
    "    r -= 1\n",
    "    for j in range(i):\n",
    "        print('*', end='')\n",
    "    print()\n"
   ]
  },
  {
   "cell_type": "code",
   "execution_count": 11,
   "id": "827357ad",
   "metadata": {},
   "outputs": [
    {
     "name": "stdout",
     "output_type": "stream",
     "text": [
      "*****\n",
      " ****\n",
      "  ***\n",
      "   **\n",
      "    *\n"
     ]
    }
   ],
   "source": [
    "r = int(input('enter rows :'))\n",
    "for i in range(1, r+1):\n",
    "    for k in range(1, i):\n",
    "        print(' ', end='')\n",
    "    for j in range(r, 0, -1):\n",
    "        print(\"*\", end='')\n",
    "    r -= 1\n",
    "    print()\n"
   ]
  },
  {
   "cell_type": "code",
   "execution_count": 67,
   "id": "ae89dc7b",
   "metadata": {},
   "outputs": [
    {
     "name": "stdout",
     "output_type": "stream",
     "text": [
      "     *\n",
      "    ***\n",
      "   *****\n",
      "  *******\n",
      " *********\n"
     ]
    }
   ],
   "source": [
    "r = int(input('enter rows :'))\n",
    "for i in range(1, r+1):\n",
    "    for k in range(r, 0, -1):\n",
    "        print(' ', end='')\n",
    "    r -= 1\n",
    "    for j in range(1, i*2):\n",
    "        print('*', end='')\n",
    "    print()\n"
   ]
  },
  {
   "cell_type": "code",
   "execution_count": 65,
   "id": "b88b320c",
   "metadata": {},
   "outputs": [
    {
     "name": "stdout",
     "output_type": "stream",
     "text": [
      "*********\n",
      " *******\n",
      "  *****\n",
      "   ***\n",
      "    *\n"
     ]
    }
   ],
   "source": [
    "r = int(input('enter rows :'))\n",
    "for i in range(1, r+1):\n",
    "    for k in range(1, i):\n",
    "        print(' ', end='')\n",
    "    for j in range(r*2, 1, -1):\n",
    "        print(\"*\", end='')\n",
    "    r -= 1\n",
    "    print()"
   ]
  },
  {
   "cell_type": "code",
   "execution_count": 49,
   "id": "a4780a50",
   "metadata": {},
   "outputs": [
    {
     "name": "stdout",
     "output_type": "stream",
     "text": [
      "* \n",
      "* * \n",
      "* * * \n",
      "* * * * \n",
      "* * * * * \n"
     ]
    }
   ],
   "source": [
    "r = int(input('enter rows :'))\n",
    "for i in range(r):\n",
    "    for j in range(i+1):\n",
    "        print('*', end=' ')\n",
    "    print()\n"
   ]
  },
  {
   "cell_type": "code",
   "execution_count": 50,
   "id": "ed57468e",
   "metadata": {},
   "outputs": [
    {
     "name": "stdout",
     "output_type": "stream",
     "text": [
      "* * * * * \n",
      "* * * * \n",
      "* * * \n",
      "* * \n",
      "* \n"
     ]
    }
   ],
   "source": [
    "r = int(input('enter rows :'))\n",
    "for i in range(r, 0, -1):\n",
    "    for j in range(i):\n",
    "        print('*', end=' ')\n",
    "    print()\n"
   ]
  },
  {
   "cell_type": "code",
   "execution_count": 55,
   "id": "2f1a85c1",
   "metadata": {},
   "outputs": [
    {
     "name": "stdout",
     "output_type": "stream",
     "text": [
      "          * \n",
      "        * * \n",
      "      * * * \n",
      "    * * * * \n",
      "  * * * * * \n"
     ]
    }
   ],
   "source": [
    "r = int(input('enter rows :'))\n",
    "for i in range(1, r+1):\n",
    "    for k in range(r*2, 0, -1):\n",
    "        print(' ', end='')\n",
    "    r -= 1\n",
    "    for j in range(i):\n",
    "        print('*', end=' ')\n",
    "    print()\n"
   ]
  },
  {
   "cell_type": "code",
   "execution_count": 58,
   "id": "b74b172c",
   "metadata": {},
   "outputs": [
    {
     "name": "stdout",
     "output_type": "stream",
     "text": [
      " * * * * * \n",
      "   * * * * \n",
      "     * * * \n",
      "       * * \n",
      "         * \n"
     ]
    }
   ],
   "source": [
    "r = int(input('enter rows :'))\n",
    "for i in range(1, r+1):\n",
    "    for k in range(1, i*2):\n",
    "        print(' ', end='')\n",
    "    for j in range(r, 0, -1):\n",
    "        print(\"*\", end=' ')\n",
    "    r -= 1\n",
    "    print()\n"
   ]
  },
  {
   "cell_type": "code",
   "execution_count": 63,
   "id": "6b4c8cb8",
   "metadata": {},
   "outputs": [
    {
     "name": "stdout",
     "output_type": "stream",
     "text": [
      "     * \n",
      "    * * \n",
      "   * * * \n",
      "  * * * * \n",
      " * * * * * \n"
     ]
    }
   ],
   "source": [
    "r = int(input('enter rows :'))\n",
    "for i in range(1, r+1):\n",
    "    for k in range(r, 0, -1):\n",
    "        print(' ', end='')\n",
    "    r -= 1\n",
    "    for j in range(i):\n",
    "        print('*', end=' ')\n",
    "    print()"
   ]
  },
  {
   "cell_type": "code",
   "execution_count": 61,
   "id": "809b0ec4",
   "metadata": {},
   "outputs": [
    {
     "name": "stdout",
     "output_type": "stream",
     "text": [
      "* * * * * \n",
      " * * * * \n",
      "  * * * \n",
      "   * * \n",
      "    * \n"
     ]
    }
   ],
   "source": [
    "r = int(input('enter rows :'))\n",
    "for i in range(1, r+1):\n",
    "    for k in range(1, i):\n",
    "        print(' ', end='')\n",
    "    for j in range(r, 0, -1):\n",
    "        print(\"*\", end=' ')\n",
    "    r -= 1\n",
    "    print()"
   ]
  },
  {
   "cell_type": "code",
   "execution_count": 1,
   "id": "60283a8d",
   "metadata": {},
   "outputs": [
    {
     "name": "stdout",
     "output_type": "stream",
     "text": [
      "11111\n",
      "22222\n",
      "33333\n",
      "44444\n",
      "55555\n"
     ]
    }
   ],
   "source": [
    "r = 5\n",
    "for i in range(1, r+1):\n",
    "    for j in range(1, r+1):\n",
    "        print(i, end='')\n",
    "    print()"
   ]
  },
  {
   "cell_type": "code",
   "execution_count": 31,
   "id": "a31d20dc",
   "metadata": {},
   "outputs": [
    {
     "name": "stdout",
     "output_type": "stream",
     "text": [
      "12345\n",
      "12345\n",
      "12345\n",
      "12345\n",
      "12345\n"
     ]
    }
   ],
   "source": [
    "r = 5\n",
    "for i in range(1, r+1):\n",
    "    for j in range(1, r+1):\n",
    "        print(j, end='')\n",
    "    print()\n"
   ]
  },
  {
   "cell_type": "code",
   "execution_count": 29,
   "id": "54ffd63c",
   "metadata": {},
   "outputs": [
    {
     "name": "stdout",
     "output_type": "stream",
     "text": [
      "1\n",
      "12\n",
      "123\n",
      "1234\n",
      "12345\n"
     ]
    }
   ],
   "source": [
    "r = 5\n",
    "for i in range(1, r+1):\n",
    "    for j in range(1, i+1):\n",
    "        print(j, end='')\n",
    "    print()\n"
   ]
  },
  {
   "cell_type": "code",
   "execution_count": 43,
   "id": "9bb070a8",
   "metadata": {},
   "outputs": [
    {
     "name": "stdout",
     "output_type": "stream",
     "text": [
      "     1\n",
      "    123\n",
      "   12345\n",
      "  1234567\n",
      " 123456789\n"
     ]
    }
   ],
   "source": [
    "r = 5\n",
    "x = r\n",
    "for i in range(1, r+1):\n",
    "    for k in range(x, 0, -1):\n",
    "        print(' ', end='')\n",
    "    x -= 1\n",
    "    for j in range(1, i*2):\n",
    "        print(j, end='')\n",
    "    print()\n"
   ]
  },
  {
   "cell_type": "code",
   "execution_count": 4,
   "id": "351f8908",
   "metadata": {},
   "outputs": [
    {
     "name": "stdout",
     "output_type": "stream",
     "text": [
      "A\n",
      "BB\n",
      "CCC\n",
      "DDDD\n",
      "EEEEE\n"
     ]
    }
   ],
   "source": [
    "c = 65\n",
    "r = 5\n",
    "for i in range(1, r+1):\n",
    "    for j in range(i):\n",
    "        print(chr(c), end='')\n",
    "    print()\n",
    "    c += 1\n"
   ]
  },
  {
   "cell_type": "code",
   "execution_count": 66,
   "id": "86974d5d",
   "metadata": {},
   "outputs": [
    {
     "name": "stdout",
     "output_type": "stream",
     "text": [
      "A\n",
      "BC\n",
      "DEF\n",
      "GHIJ\n",
      "KLMNO\n"
     ]
    }
   ],
   "source": [
    "c = 65\n",
    "r = 5\n",
    "for i in range(1, r+1):\n",
    "    for j in range(i):\n",
    "        print(chr(c), end='')\n",
    "        c += 1\n",
    "    print()\n"
   ]
  },
  {
   "cell_type": "code",
   "execution_count": 16,
   "id": "dc26a47a",
   "metadata": {},
   "outputs": [
    {
     "name": "stdout",
     "output_type": "stream",
     "text": [
      "*****\n",
      "*   *\n",
      "*   *\n",
      "*   *\n",
      "*****\n"
     ]
    }
   ],
   "source": [
    "r = int(input('enter rows :'))\n",
    "for i in range(r):\n",
    "    for j in range(r):\n",
    "        if (i == 0) or (i == r-1) or (j == 0) or (j == r-1):\n",
    "            print('*', end='')\n",
    "        else:\n",
    "            print(' ', end='')\n",
    "    print()\n"
   ]
  },
  {
   "cell_type": "code",
   "execution_count": 20,
   "id": "76d0eb73",
   "metadata": {},
   "outputs": [
    {
     "name": "stdout",
     "output_type": "stream",
     "text": [
      "*\n",
      "**\n",
      "* *\n",
      "*  *\n",
      "*****\n"
     ]
    }
   ],
   "source": [
    "r = int(input('enter rows :'))\n",
    "for i in range(r):\n",
    "    for j in range(i+1):\n",
    "        if (i == 0) or (i == r-1) or (j == 0) or (j == i):\n",
    "            print('*', end='')\n",
    "        else:\n",
    "            print(' ', end='')\n",
    "    print()\n"
   ]
  },
  {
   "cell_type": "code",
   "execution_count": 23,
   "id": "500d4dae",
   "metadata": {},
   "outputs": [
    {
     "name": "stdout",
     "output_type": "stream",
     "text": [
      "*****\n",
      "*  *\n",
      "* *\n",
      "**\n",
      "*\n"
     ]
    }
   ],
   "source": [
    "r = int(input('enter rows :'))\n",
    "for i in range(r, 0, -1):\n",
    "    for j in range(i):\n",
    "        if (i == r) or (i == 1) or (j == 0) or (j == i-1):\n",
    "            print('*', end='')\n",
    "        else:\n",
    "            print(' ', end='')\n",
    "    print()\n"
   ]
  },
  {
   "cell_type": "code",
   "execution_count": 33,
   "id": "28531ad3",
   "metadata": {},
   "outputs": [
    {
     "name": "stdout",
     "output_type": "stream",
     "text": [
      "     *\n",
      "    **\n",
      "   * *\n",
      "  *  *\n",
      " *****\n"
     ]
    }
   ],
   "source": [
    "r = int(input('enter rows :'))\n",
    "z = r\n",
    "for i in range(1, r+1):\n",
    "    for k in range(z, 0, -1):\n",
    "        print(' ', end='')\n",
    "    for j in range(i):\n",
    "        if (i == r) or (i == 0) or (j == 0) or (j == i-1):\n",
    "            print('*', end='')\n",
    "        else:\n",
    "            print(' ', end='')\n",
    "    z -= 1\n",
    "    print()\n"
   ]
  },
  {
   "cell_type": "code",
   "execution_count": 40,
   "id": "5be90528",
   "metadata": {},
   "outputs": [
    {
     "name": "stdout",
     "output_type": "stream",
     "text": [
      "*****\n",
      " *  *\n",
      "  * *\n",
      "   **\n",
      "    *\n"
     ]
    }
   ],
   "source": [
    "r = int(input('enter rows :'))\n",
    "z = r\n",
    "for i in range(1, r+1):\n",
    "    for k in range(1, i):\n",
    "        print(' ', end='')\n",
    "    for j in range(z, 0, -1):\n",
    "        if (i == r) or (i == 1) or (j == z) or (j == 1):\n",
    "            print('*', end='')\n",
    "        else:\n",
    "            print(' ', end='')\n",
    "    z -= 1\n",
    "    print()\n"
   ]
  },
  {
   "cell_type": "code",
   "execution_count": 17,
   "id": "5d4ffd1c",
   "metadata": {},
   "outputs": [
    {
     "name": "stdout",
     "output_type": "stream",
     "text": [
      "     *\n",
      "    * *\n",
      "   *   *\n",
      "  *     *\n",
      " *********\n"
     ]
    }
   ],
   "source": [
    "r = int(input('enter rows :'))\n",
    "z = r\n",
    "for i in range(1, r+1):\n",
    "    for k in range(z, 0, -1):\n",
    "        print(' ', end='')\n",
    "    z -= 1\n",
    "    for j in range(1, i*2):\n",
    "        if (i == r) or (i == 1) or (j == 1) or (j == (i*2)-1):\n",
    "            print('*', end='')\n",
    "        else:\n",
    "            print(' ', end='')\n",
    "    print()\n"
   ]
  },
  {
   "cell_type": "code",
   "execution_count": 16,
   "id": "774daab6",
   "metadata": {},
   "outputs": [
    {
     "name": "stdout",
     "output_type": "stream",
     "text": [
      "*********\n",
      " *     *\n",
      "  *   *\n",
      "   * *\n",
      "    *\n"
     ]
    }
   ],
   "source": [
    "r = int(input('enter rows :'))\n",
    "x = r\n",
    "for i in range(1, r+1):\n",
    "    for k in range(1, i):\n",
    "        print(' ', end='')\n",
    "    for j in range(x*2, 1, -1):\n",
    "        if (i == r) or (i == 1) or (j == 2) or (j == x*2):\n",
    "            print('*', end='')\n",
    "        else:\n",
    "            print(' ', end='')\n",
    "    x -= 1\n",
    "    print()\n"
   ]
  },
  {
   "cell_type": "code",
   "execution_count": 32,
   "id": "8e5ccd88",
   "metadata": {},
   "outputs": [
    {
     "name": "stdout",
     "output_type": "stream",
     "text": [
      "12345\n",
      "1   5\n",
      "1   5\n",
      "1   5\n",
      "12345\n"
     ]
    }
   ],
   "source": [
    "r = 5\n",
    "for i in range(1, r+1):\n",
    "    for j in range(1, r+1):\n",
    "        if(i == 1) or (i == r) or (j == 1) or (j == r):\n",
    "            print(j, end='')\n",
    "        else:\n",
    "            print(' ', end='')\n",
    "    print()"
   ]
  },
  {
   "cell_type": "code",
   "execution_count": 18,
   "id": "fcfd2584",
   "metadata": {},
   "outputs": [
    {
     "name": "stdout",
     "output_type": "stream",
     "text": [
      "11111\n",
      "2   2\n",
      "3   3\n",
      "4   4\n",
      "55555\n"
     ]
    }
   ],
   "source": [
    "r = 5\n",
    "for i in range(1, r+1):\n",
    "    for j in range(1, r+1):\n",
    "        if(i == 1) or (i == r) or (j == 1) or (j == r):\n",
    "            print(i, end='')\n",
    "        else:\n",
    "            print(' ', end='')\n",
    "    print()"
   ]
  },
  {
   "cell_type": "code",
   "execution_count": 36,
   "id": "930b81ed",
   "metadata": {},
   "outputs": [
    {
     "name": "stdout",
     "output_type": "stream",
     "text": [
      "1\n",
      "12\n",
      "1 3\n",
      "1  4\n",
      "12345\n"
     ]
    }
   ],
   "source": [
    "r = 5\n",
    "for i in range(1, r+1):\n",
    "    for j in range(1, i+1):\n",
    "        if(i == 1) or (i == r) or (j == 1) or (j == i):\n",
    "            print(j, end='')\n",
    "        else:\n",
    "            print(' ', end='')\n",
    "    print()\n"
   ]
  },
  {
   "cell_type": "code",
   "execution_count": 20,
   "id": "3e63bcb2",
   "metadata": {},
   "outputs": [
    {
     "name": "stdout",
     "output_type": "stream",
     "text": [
      "     1\n",
      "    1 3\n",
      "   1   5\n",
      "  1     7\n",
      " 123456789\n"
     ]
    }
   ],
   "source": [
    "r = 5\n",
    "x = r\n",
    "for i in range(1, r+1):\n",
    "    for k in range(x, 0, -1):\n",
    "        print(' ', end='')\n",
    "    x -= 1\n",
    "    for j in range(1, i*2):\n",
    "        if(i == 1) or (i == r) or (j == 1) or (j == i*2-1):\n",
    "            print(j, end='')\n",
    "        else:\n",
    "            print(' ', end='')\n",
    "    print()\n"
   ]
  },
  {
   "cell_type": "code",
   "execution_count": 24,
   "id": "244b7b77",
   "metadata": {},
   "outputs": [
    {
     "name": "stdout",
     "output_type": "stream",
     "text": [
      "A\n",
      "BB\n",
      "C C\n",
      "D  D\n",
      "EEEEE\n"
     ]
    }
   ],
   "source": [
    "c = 65\n",
    "r = 5\n",
    "for i in range(1, r+1):\n",
    "    for j in range(i):\n",
    "        if(i == 1) or (i == r) or (j == 0) or (j == i-1):\n",
    "            print(chr(c), end='')\n",
    "        else:\n",
    "            print(' ', end='')\n",
    "    print()\n",
    "    c += 1\n"
   ]
  },
  {
   "cell_type": "code",
   "execution_count": 26,
   "id": "7cf43ce5",
   "metadata": {},
   "outputs": [
    {
     "name": "stdout",
     "output_type": "stream",
     "text": [
      "A\n",
      "BC\n",
      "D F\n",
      "G  J\n",
      "KLMNO\n"
     ]
    }
   ],
   "source": [
    "c = 65\n",
    "r = 5\n",
    "for i in range(1, r+1):\n",
    "    for j in range(i):\n",
    "        if(i == 1) or (i == r) or (j == 0) or (j == i-1):\n",
    "            print(chr(c), end='')\n",
    "        else:\n",
    "            print(' ', end='')\n",
    "        c += 1\n",
    "    print()\n"
   ]
  },
  {
   "cell_type": "code",
   "execution_count": 46,
   "id": "2e6cf286",
   "metadata": {},
   "outputs": [
    {
     "name": "stdout",
     "output_type": "stream",
     "text": [
      "degree :  57.29577951308232\n"
     ]
    }
   ],
   "source": [
    "import math\n",
    "r = int(input('enter radians : '))\n",
    "\n",
    "\n",
    "def radiantodegree(r):\n",
    "    print('degree : ', r*180/math.pi)\n",
    "\n",
    "\n",
    "radiantodegree(r)\n"
   ]
  },
  {
   "cell_type": "code",
   "execution_count": 45,
   "id": "fdd80ead",
   "metadata": {},
   "outputs": [
    {
     "name": "stdout",
     "output_type": "stream",
     "text": [
      "please enter one from (\"asc\",\"dsc\")\n"
     ]
    }
   ],
   "source": [
    "list = [4, 7, 3, 0, 2, 5]\n",
    "\n",
    "\n",
    "def func(list, order):\n",
    "    list.sort()\n",
    "    if (order == 'asc'):\n",
    "        print(list)\n",
    "    elif (order == 'dsc'):\n",
    "        list.reverse()\n",
    "        print(list)\n",
    "    else:\n",
    "        print('please enter one from (\"asc\",\"dsc\")')\n",
    "\n",
    "\n",
    "order = input('enter order (\"asc\",\"dsc\") : ')\n",
    "func(list, order)\n"
   ]
  },
  {
   "cell_type": "code",
   "execution_count": 45,
   "id": "0f122530",
   "metadata": {},
   "outputs": [
    {
     "name": "stdout",
     "output_type": "stream",
     "text": [
      "1100100\n"
     ]
    }
   ],
   "source": [
    "# Decimal to Binary\n",
    "n = int(input(\"enter number : \"))\n",
    "bi = ''\n",
    "while n > 0:\n",
    "    i = n % 2\n",
    "    n = n//2\n",
    "    bi += str(i)\n",
    "print(bi[::-1])\n"
   ]
  }
 ],
 "metadata": {
  "kernelspec": {
   "display_name": "Python 3 (ipykernel)",
   "language": "python",
   "name": "python3"
  },
  "language_info": {
   "codemirror_mode": {
    "name": "ipython",
    "version": 3
   },
   "file_extension": ".py",
   "mimetype": "text/x-python",
   "name": "python",
   "nbconvert_exporter": "python",
   "pygments_lexer": "ipython3",
   "version": "3.10.1"
  }
 },
 "nbformat": 4,
 "nbformat_minor": 5
}
